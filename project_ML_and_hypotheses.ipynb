{
 "cells": [
  {
   "cell_type": "code",
   "execution_count": 1,
   "id": "c2ec8390",
   "metadata": {},
   "outputs": [],
   "source": [
    "import numpy as np\n",
    "import pandas as pd\n",
    "import scipy.stats as stats\n",
    "import matplotlib.pyplot as plt\n",
    "import seaborn as sns\n",
    "import warnings\n",
    "warnings.filterwarnings(\"ignore\")"
   ]
  },
  {
   "cell_type": "markdown",
   "id": "0432bfdb",
   "metadata": {},
   "source": [
    "# Обработка датасета"
   ]
  },
  {
   "cell_type": "code",
   "execution_count": 2,
   "id": "856b9dee",
   "metadata": {},
   "outputs": [
    {
     "name": "stdout",
     "output_type": "stream",
     "text": [
      "<class 'pandas.core.frame.DataFrame'>\n",
      "RangeIndex: 1000 entries, 0 to 999\n",
      "Data columns (total 14 columns):\n",
      " #   Column     Non-Null Count  Dtype  \n",
      "---  ------     --------------  -----  \n",
      " 0   Name       1000 non-null   object \n",
      " 1   Rate       984 non-null    float64\n",
      " 2   Country    1000 non-null   object \n",
      " 3   View       1000 non-null   int64  \n",
      " 4   Year       1000 non-null   int64  \n",
      " 5   Duration   991 non-null    float64\n",
      " 6   Director   1000 non-null   object \n",
      " 7   Genre      1000 non-null   object \n",
      " 8   Roles1     1000 non-null   object \n",
      " 9   Roles2     1000 non-null   object \n",
      " 10  OscarA     1000 non-null   int64  \n",
      " 11  OscarD     1000 non-null   int64  \n",
      " 12  Good mark  1000 non-null   int64  \n",
      " 13  Region     1000 non-null   object \n",
      "dtypes: float64(2), int64(5), object(7)\n",
      "memory usage: 109.5+ KB\n"
     ]
    }
   ],
   "source": [
    "#Загрузим датасет и посмотрим, какие там есть переменные\n",
    "df = pd.read_pickle('finaldataset.pkl')\n",
    "df.columns\n",
    "df.info()\n"
   ]
  },
  {
   "cell_type": "code",
   "execution_count": 3,
   "id": "b6cc1670",
   "metadata": {},
   "outputs": [
    {
     "name": "stdout",
     "output_type": "stream",
     "text": [
      "<class 'pandas.core.frame.DataFrame'>\n",
      "RangeIndex: 1000 entries, 0 to 999\n",
      "Data columns (total 8 columns):\n",
      " #   Column     Non-Null Count  Dtype  \n",
      "---  ------     --------------  -----  \n",
      " 0   View       1000 non-null   int64  \n",
      " 1   Year       1000 non-null   int64  \n",
      " 2   Duration   991 non-null    float64\n",
      " 3   Genre      1000 non-null   object \n",
      " 4   OscarA     1000 non-null   int64  \n",
      " 5   OscarD     1000 non-null   int64  \n",
      " 6   Good mark  1000 non-null   int64  \n",
      " 7   Region     1000 non-null   object \n",
      "dtypes: float64(1), int64(5), object(2)\n",
      "memory usage: 62.6+ KB\n"
     ]
    }
   ],
   "source": [
    "#Создадим новый датасет, убрав колонку с названием, так как она не имеет значения для обучения модели, а также страны,так\n",
    "# как в датасете есть более обощенная колонка с регионами, и рейтинг, так как он напрямую влияет на то хорошая оценка или\n",
    "# нет (Мы будем исходить из того, что рейтинг неизвестин и пока просто хотим понять, будет ли оценка хорошей)\n",
    "#Уберем столбцы с режиссерами и актерами, так как при применении модели в дальнейшем, в фильмах, для которых будет \n",
    "# делаться прогноз, могут быть совершенно другие актеры и режиссеры и модель не будет работать\n",
    "# еще уберем из датасета новые фильмы\n",
    "df_ML=df.drop(['Name','Country','Roles1','Director','Roles2','Rate'],axis=1)\n",
    "#Посмотрим на пропуски\n",
    "df_ML.info()\n"
   ]
  },
  {
   "cell_type": "code",
   "execution_count": 4,
   "id": "bd593263",
   "metadata": {},
   "outputs": [
    {
     "data": {
      "text/plain": [
       "count    991.000000\n",
       "mean     116.691221\n",
       "std       25.030477\n",
       "min        0.000000\n",
       "25%      100.000000\n",
       "50%      114.000000\n",
       "75%      130.000000\n",
       "max      242.000000\n",
       "Name: Duration, dtype: float64"
      ]
     },
     "execution_count": 4,
     "metadata": {},
     "output_type": "execute_result"
    },
    {
     "data": {
      "image/png": "[encoded data removed]",
      "text/plain": [
       "<Figure size 640x480 with 1 Axes>"
      ]
     },
     "metadata": {},
     "output_type": "display_data"
    }
   ],
   "source": [
    "#Видим, что пропуски есть в продолжительности фильма, посмторим на его распредление\n",
    "plt.hist(df_ML['Duration'])\n",
    "#Видно, что значения по бокам выглядят выглядят намного меньше, чем значения в середине. Посмотрим на описательные \n",
    "#статистики\n",
    "df_ML['Duration'].describe()\n",
    "#Видим,что есть данные со значением 0, однако фильм не может длиться 0 минут\n",
    "\n",
    "\n"
   ]
  },
  {
   "cell_type": "code",
   "execution_count": 5,
   "id": "8e19bd94",
   "metadata": {},
   "outputs": [
    {
     "data": {
      "text/html": [
       "<div>\n",
       "<style scoped>\n",
       "    .dataframe tbody tr th:only-of-type {\n",
       "        vertical-align: middle;\n",
       "    }\n",
       "\n",
       "    .dataframe tbody tr th {\n",
       "        vertical-align: top;\n",
       "    }\n",
       "\n",
       "    .dataframe thead th {\n",
       "        text-align: right;\n",
       "    }\n",
       "</style>\n",
       "<table border=\"1\" class=\"dataframe\">\n",
       "  <thead>\n",
       "    <tr style=\"text-align: right;\">\n",
       "      <th></th>\n",
       "      <th>View</th>\n",
       "      <th>Year</th>\n",
       "      <th>Duration</th>\n",
       "      <th>OscarA</th>\n",
       "      <th>OscarD</th>\n",
       "      <th>Good mark</th>\n",
       "    </tr>\n",
       "  </thead>\n",
       "  <tbody>\n",
       "    <tr>\n",
       "      <th>count</th>\n",
       "      <td>9.780000e+02</td>\n",
       "      <td>978.000000</td>\n",
       "      <td>978.000000</td>\n",
       "      <td>978.000000</td>\n",
       "      <td>978.000000</td>\n",
       "      <td>978.000000</td>\n",
       "    </tr>\n",
       "    <tr>\n",
       "      <th>mean</th>\n",
       "      <td>2.032046e+05</td>\n",
       "      <td>2010.273006</td>\n",
       "      <td>116.008180</td>\n",
       "      <td>0.189162</td>\n",
       "      <td>0.076687</td>\n",
       "      <td>0.700409</td>\n",
       "    </tr>\n",
       "    <tr>\n",
       "      <th>std</th>\n",
       "      <td>2.047877e+05</td>\n",
       "      <td>14.328365</td>\n",
       "      <td>22.349278</td>\n",
       "      <td>0.391837</td>\n",
       "      <td>0.266230</td>\n",
       "      <td>0.458313</td>\n",
       "    </tr>\n",
       "    <tr>\n",
       "      <th>min</th>\n",
       "      <td>0.000000e+00</td>\n",
       "      <td>1943.000000</td>\n",
       "      <td>45.000000</td>\n",
       "      <td>0.000000</td>\n",
       "      <td>0.000000</td>\n",
       "      <td>0.000000</td>\n",
       "    </tr>\n",
       "    <tr>\n",
       "      <th>25%</th>\n",
       "      <td>3.846825e+04</td>\n",
       "      <td>2005.250000</td>\n",
       "      <td>100.000000</td>\n",
       "      <td>0.000000</td>\n",
       "      <td>0.000000</td>\n",
       "      <td>0.000000</td>\n",
       "    </tr>\n",
       "    <tr>\n",
       "      <th>50%</th>\n",
       "      <td>1.507290e+05</td>\n",
       "      <td>2015.000000</td>\n",
       "      <td>113.000000</td>\n",
       "      <td>0.000000</td>\n",
       "      <td>0.000000</td>\n",
       "      <td>1.000000</td>\n",
       "    </tr>\n",
       "    <tr>\n",
       "      <th>75%</th>\n",
       "      <td>2.987555e+05</td>\n",
       "      <td>2021.000000</td>\n",
       "      <td>130.000000</td>\n",
       "      <td>0.000000</td>\n",
       "      <td>0.000000</td>\n",
       "      <td>1.000000</td>\n",
       "    </tr>\n",
       "    <tr>\n",
       "      <th>max</th>\n",
       "      <td>1.575000e+06</td>\n",
       "      <td>2023.000000</td>\n",
       "      <td>189.000000</td>\n",
       "      <td>1.000000</td>\n",
       "      <td>1.000000</td>\n",
       "      <td>1.000000</td>\n",
       "    </tr>\n",
       "  </tbody>\n",
       "</table>\n",
       "</div>"
      ],
      "text/plain": [
       "               View         Year    Duration      OscarA      OscarD  \\\n",
       "count  9.780000e+02   978.000000  978.000000  978.000000  978.000000   \n",
       "mean   2.032046e+05  2010.273006  116.008180    0.189162    0.076687   \n",
       "std    2.047877e+05    14.328365   22.349278    0.391837    0.266230   \n",
       "min    0.000000e+00  1943.000000   45.000000    0.000000    0.000000   \n",
       "25%    3.846825e+04  2005.250000  100.000000    0.000000    0.000000   \n",
       "50%    1.507290e+05  2015.000000  113.000000    0.000000    0.000000   \n",
       "75%    2.987555e+05  2021.000000  130.000000    0.000000    0.000000   \n",
       "max    1.575000e+06  2023.000000  189.000000    1.000000    1.000000   \n",
       "\n",
       "        Good mark  \n",
       "count  978.000000  \n",
       "mean     0.700409  \n",
       "std      0.458313  \n",
       "min      0.000000  \n",
       "25%      0.000000  \n",
       "50%      1.000000  \n",
       "75%      1.000000  \n",
       "max      1.000000  "
      ]
     },
     "execution_count": 5,
     "metadata": {},
     "output_type": "execute_result"
    }
   ],
   "source": [
    "#Проверим наличия выбросов, считая выбросом то, что больше среднего на  3 и более стандартных отклонения и \n",
    "#посмотрим на среднее без выбросов\n",
    "df_ML[(df_ML['Duration']>=df_ML['Duration'].mean()-3*df_ML['Duration'].std())&\n",
    "      (df_ML['Duration']<=df_ML['Duration'].mean()+3*df_ML['Duration'].std())].describe()\n",
    "\n",
    " "
   ]
  },
  {
   "cell_type": "code",
   "execution_count": 6,
   "id": "ea82c678",
   "metadata": {},
   "outputs": [],
   "source": [
    "#Среднее стало чуть меньше, возьмем его и заменим им пропуски в продолжительности(также заменим значения в исходном \n",
    "# датасете,чтобы использовать его для проверки гипотез)\n",
    "df_ML['Duration']=df_ML['Duration'].fillna(116.008180)\n",
    "df['Duration']=df['Duration'].fillna(116.008180)\n",
    "#Теперь уберем выбросы\n",
    "df_ML=df_ML[(df_ML['Duration']>=df_ML['Duration'].mean()-3*df_ML['Duration'].std())&\n",
    "      (df_ML['Duration']<=df_ML['Duration'].mean()+3*df_ML['Duration'].std())]\n",
    "df=df[(df['Duration']>=df['Duration'].mean()-3*df['Duration'].std())&\n",
    "      (df['Duration']<=df['Duration'].mean()+3*df['Duration'].std())]\n"
   ]
  },
  {
   "cell_type": "code",
   "execution_count": 7,
   "id": "be6424b0",
   "metadata": {},
   "outputs": [],
   "source": [
    "#Теперь уберем выбросы из столбца с просмотрами\n",
    "df_ML=df_ML[(df_ML['View']>=df_ML['View'].mean()-3*df_ML['View'].std())&\n",
    "      (df_ML['View']<=df_ML['View'].mean()+3*df_ML['View'].std())]\n",
    "df=df[(df['View']>=df['View'].mean()-3*df['View'].std())&\n",
    "      (df['View']<=df['View'].mean()+3*df['View'].std())]\n",
    "df_ML=df_ML.reset_index(drop=True)\n",
    "df=df[(df['Rate']>=df['Rate'].mean()-3*df['Rate'].std())&\n",
    "      (df['Rate']<=df['Rate'].mean()+3*df['Rate'].std())]\n",
    "df=df.reset_index(drop=True)\n"
   ]
  },
  {
   "cell_type": "code",
   "execution_count": 8,
   "id": "826a21b3",
   "metadata": {},
   "outputs": [
    {
     "data": {
      "text/html": [
       "<div>\n",
       "<style scoped>\n",
       "    .dataframe tbody tr th:only-of-type {\n",
       "        vertical-align: middle;\n",
       "    }\n",
       "\n",
       "    .dataframe tbody tr th {\n",
       "        vertical-align: top;\n",
       "    }\n",
       "\n",
       "    .dataframe thead th {\n",
       "        text-align: right;\n",
       "    }\n",
       "</style>\n",
       "<table border=\"1\" class=\"dataframe\">\n",
       "  <thead>\n",
       "    <tr style=\"text-align: right;\">\n",
       "      <th></th>\n",
       "      <th>View</th>\n",
       "      <th>Year</th>\n",
       "      <th>Duration</th>\n",
       "      <th>Genre</th>\n",
       "      <th>OscarA</th>\n",
       "      <th>OscarD</th>\n",
       "      <th>Good mark</th>\n",
       "      <th>Region</th>\n",
       "    </tr>\n",
       "  </thead>\n",
       "  <tbody>\n",
       "    <tr>\n",
       "      <th>0</th>\n",
       "      <td>640337</td>\n",
       "      <td>1994</td>\n",
       "      <td>88.0</td>\n",
       "      <td>мультфильм</td>\n",
       "      <td>1</td>\n",
       "      <td>0</td>\n",
       "      <td>1</td>\n",
       "      <td>Америка</td>\n",
       "    </tr>\n",
       "    <tr>\n",
       "      <th>1</th>\n",
       "      <td>629477</td>\n",
       "      <td>2017</td>\n",
       "      <td>105.0</td>\n",
       "      <td>мультфильм</td>\n",
       "      <td>0</td>\n",
       "      <td>0</td>\n",
       "      <td>1</td>\n",
       "      <td>Америка</td>\n",
       "    </tr>\n",
       "    <tr>\n",
       "      <th>2</th>\n",
       "      <td>428717</td>\n",
       "      <td>1973</td>\n",
       "      <td>87.0</td>\n",
       "      <td>военный</td>\n",
       "      <td>0</td>\n",
       "      <td>0</td>\n",
       "      <td>1</td>\n",
       "      <td>СНГ(СССР)</td>\n",
       "    </tr>\n",
       "    <tr>\n",
       "      <th>3</th>\n",
       "      <td>363121</td>\n",
       "      <td>1972</td>\n",
       "      <td>175.0</td>\n",
       "      <td>драма</td>\n",
       "      <td>1</td>\n",
       "      <td>0</td>\n",
       "      <td>1</td>\n",
       "      <td>Америка</td>\n",
       "    </tr>\n",
       "    <tr>\n",
       "      <th>4</th>\n",
       "      <td>603239</td>\n",
       "      <td>1994</td>\n",
       "      <td>133.0</td>\n",
       "      <td>боевик</td>\n",
       "      <td>1</td>\n",
       "      <td>0</td>\n",
       "      <td>1</td>\n",
       "      <td>Европа</td>\n",
       "    </tr>\n",
       "    <tr>\n",
       "      <th>...</th>\n",
       "      <td>...</td>\n",
       "      <td>...</td>\n",
       "      <td>...</td>\n",
       "      <td>...</td>\n",
       "      <td>...</td>\n",
       "      <td>...</td>\n",
       "      <td>...</td>\n",
       "      <td>...</td>\n",
       "    </tr>\n",
       "    <tr>\n",
       "      <th>963</th>\n",
       "      <td>751</td>\n",
       "      <td>1945</td>\n",
       "      <td>63.0</td>\n",
       "      <td>документальный</td>\n",
       "      <td>0</td>\n",
       "      <td>0</td>\n",
       "      <td>1</td>\n",
       "      <td>СНГ(СССР)</td>\n",
       "    </tr>\n",
       "    <tr>\n",
       "      <th>964</th>\n",
       "      <td>1730</td>\n",
       "      <td>2005</td>\n",
       "      <td>103.0</td>\n",
       "      <td>драма</td>\n",
       "      <td>0</td>\n",
       "      <td>0</td>\n",
       "      <td>1</td>\n",
       "      <td>СНГ(СССР)</td>\n",
       "    </tr>\n",
       "    <tr>\n",
       "      <th>965</th>\n",
       "      <td>2190</td>\n",
       "      <td>1966</td>\n",
       "      <td>92.0</td>\n",
       "      <td>драма</td>\n",
       "      <td>0</td>\n",
       "      <td>0</td>\n",
       "      <td>1</td>\n",
       "      <td>СНГ(СССР)</td>\n",
       "    </tr>\n",
       "    <tr>\n",
       "      <th>966</th>\n",
       "      <td>689</td>\n",
       "      <td>1989</td>\n",
       "      <td>93.0</td>\n",
       "      <td>драма</td>\n",
       "      <td>0</td>\n",
       "      <td>0</td>\n",
       "      <td>1</td>\n",
       "      <td>СНГ(СССР)</td>\n",
       "    </tr>\n",
       "    <tr>\n",
       "      <th>967</th>\n",
       "      <td>729</td>\n",
       "      <td>1943</td>\n",
       "      <td>71.0</td>\n",
       "      <td>документальный</td>\n",
       "      <td>0</td>\n",
       "      <td>0</td>\n",
       "      <td>1</td>\n",
       "      <td>СНГ(СССР)</td>\n",
       "    </tr>\n",
       "  </tbody>\n",
       "</table>\n",
       "<p>968 rows × 8 columns</p>\n",
       "</div>"
      ],
      "text/plain": [
       "       View  Year  Duration           Genre  OscarA  OscarD  Good mark  \\\n",
       "0    640337  1994      88.0      мультфильм       1       0          1   \n",
       "1    629477  2017     105.0      мультфильм       0       0          1   \n",
       "2    428717  1973      87.0         военный       0       0          1   \n",
       "3    363121  1972     175.0           драма       1       0          1   \n",
       "4    603239  1994     133.0          боевик       1       0          1   \n",
       "..      ...   ...       ...             ...     ...     ...        ...   \n",
       "963     751  1945      63.0  документальный       0       0          1   \n",
       "964    1730  2005     103.0           драма       0       0          1   \n",
       "965    2190  1966      92.0           драма       0       0          1   \n",
       "966     689  1989      93.0           драма       0       0          1   \n",
       "967     729  1943      71.0  документальный       0       0          1   \n",
       "\n",
       "        Region  \n",
       "0      Америка  \n",
       "1      Америка  \n",
       "2    СНГ(СССР)  \n",
       "3      Америка  \n",
       "4       Европа  \n",
       "..         ...  \n",
       "963  СНГ(СССР)  \n",
       "964  СНГ(СССР)  \n",
       "965  СНГ(СССР)  \n",
       "966  СНГ(СССР)  \n",
       "967  СНГ(СССР)  \n",
       "\n",
       "[968 rows x 8 columns]"
      ]
     },
     "execution_count": 8,
     "metadata": {},
     "output_type": "execute_result"
    }
   ],
   "source": [
    "df_ML"
   ]
  },
  {
   "cell_type": "markdown",
   "id": "f05db63a",
   "metadata": {},
   "source": [
    "# Гипотезы"
   ]
  },
  {
   "cell_type": "code",
   "execution_count": 9,
   "id": "7c1ce05e",
   "metadata": {},
   "outputs": [
    {
     "data": {
      "text/html": [
       "<div>\n",
       "<style scoped>\n",
       "    .dataframe tbody tr th:only-of-type {\n",
       "        vertical-align: middle;\n",
       "    }\n",
       "\n",
       "    .dataframe tbody tr th {\n",
       "        vertical-align: top;\n",
       "    }\n",
       "\n",
       "    .dataframe thead th {\n",
       "        text-align: right;\n",
       "    }\n",
       "</style>\n",
       "<table border=\"1\" class=\"dataframe\">\n",
       "  <thead>\n",
       "    <tr style=\"text-align: right;\">\n",
       "      <th></th>\n",
       "      <th>Rate</th>\n",
       "      <th>View</th>\n",
       "      <th>Year</th>\n",
       "      <th>Duration</th>\n",
       "      <th>OscarA</th>\n",
       "      <th>OscarD</th>\n",
       "      <th>Good mark</th>\n",
       "    </tr>\n",
       "  </thead>\n",
       "  <tbody>\n",
       "    <tr>\n",
       "      <th>count</th>\n",
       "      <td>942.000000</td>\n",
       "      <td>942.000000</td>\n",
       "      <td>942.000000</td>\n",
       "      <td>942.000000</td>\n",
       "      <td>942.000000</td>\n",
       "      <td>942.000000</td>\n",
       "      <td>942.000000</td>\n",
       "    </tr>\n",
       "    <tr>\n",
       "      <th>mean</th>\n",
       "      <td>7.273779</td>\n",
       "      <td>190569.562633</td>\n",
       "      <td>2010.199575</td>\n",
       "      <td>115.705945</td>\n",
       "      <td>0.188960</td>\n",
       "      <td>0.076433</td>\n",
       "      <td>0.707006</td>\n",
       "    </tr>\n",
       "    <tr>\n",
       "      <th>std</th>\n",
       "      <td>0.740969</td>\n",
       "      <td>172787.718377</td>\n",
       "      <td>14.395672</td>\n",
       "      <td>21.959279</td>\n",
       "      <td>0.391685</td>\n",
       "      <td>0.265831</td>\n",
       "      <td>0.455377</td>\n",
       "    </tr>\n",
       "    <tr>\n",
       "      <th>min</th>\n",
       "      <td>5.000000</td>\n",
       "      <td>0.000000</td>\n",
       "      <td>1943.000000</td>\n",
       "      <td>45.000000</td>\n",
       "      <td>0.000000</td>\n",
       "      <td>0.000000</td>\n",
       "      <td>0.000000</td>\n",
       "    </tr>\n",
       "    <tr>\n",
       "      <th>25%</th>\n",
       "      <td>6.800000</td>\n",
       "      <td>40235.750000</td>\n",
       "      <td>2006.000000</td>\n",
       "      <td>100.000000</td>\n",
       "      <td>0.000000</td>\n",
       "      <td>0.000000</td>\n",
       "      <td>0.000000</td>\n",
       "    </tr>\n",
       "    <tr>\n",
       "      <th>50%</th>\n",
       "      <td>7.300000</td>\n",
       "      <td>149379.000000</td>\n",
       "      <td>2015.000000</td>\n",
       "      <td>113.000000</td>\n",
       "      <td>0.000000</td>\n",
       "      <td>0.000000</td>\n",
       "      <td>1.000000</td>\n",
       "    </tr>\n",
       "    <tr>\n",
       "      <th>75%</th>\n",
       "      <td>7.800000</td>\n",
       "      <td>293322.000000</td>\n",
       "      <td>2021.000000</td>\n",
       "      <td>129.000000</td>\n",
       "      <td>0.000000</td>\n",
       "      <td>0.000000</td>\n",
       "      <td>1.000000</td>\n",
       "    </tr>\n",
       "    <tr>\n",
       "      <th>max</th>\n",
       "      <td>8.800000</td>\n",
       "      <td>810002.000000</td>\n",
       "      <td>2023.000000</td>\n",
       "      <td>189.000000</td>\n",
       "      <td>1.000000</td>\n",
       "      <td>1.000000</td>\n",
       "      <td>1.000000</td>\n",
       "    </tr>\n",
       "  </tbody>\n",
       "</table>\n",
       "</div>"
      ],
      "text/plain": [
       "             Rate           View         Year    Duration      OscarA  \\\n",
       "count  942.000000     942.000000   942.000000  942.000000  942.000000   \n",
       "mean     7.273779  190569.562633  2010.199575  115.705945    0.188960   \n",
       "std      0.740969  172787.718377    14.395672   21.959279    0.391685   \n",
       "min      5.000000       0.000000  1943.000000   45.000000    0.000000   \n",
       "25%      6.800000   40235.750000  2006.000000  100.000000    0.000000   \n",
       "50%      7.300000  149379.000000  2015.000000  113.000000    0.000000   \n",
       "75%      7.800000  293322.000000  2021.000000  129.000000    0.000000   \n",
       "max      8.800000  810002.000000  2023.000000  189.000000    1.000000   \n",
       "\n",
       "           OscarD   Good mark  \n",
       "count  942.000000  942.000000  \n",
       "mean     0.076433    0.707006  \n",
       "std      0.265831    0.455377  \n",
       "min      0.000000    0.000000  \n",
       "25%      0.000000    0.000000  \n",
       "50%      0.000000    1.000000  \n",
       "75%      0.000000    1.000000  \n",
       "max      1.000000    1.000000  "
      ]
     },
     "execution_count": 9,
     "metadata": {},
     "output_type": "execute_result"
    }
   ],
   "source": [
    "#Выберем уровень значимости = 0.05\n",
    "from statsmodels.stats.weightstats import ztest\n",
    "a = 0.05\n",
    "df.describe()"
   ]
  },
  {
   "cell_type": "code",
   "execution_count": 10,
   "id": "e54c909c",
   "metadata": {},
   "outputs": [
    {
     "name": "stdout",
     "output_type": "stream",
     "text": [
      "stat: 3.552611789739069\n",
      "Основная гипотеза отвергается\n"
     ]
    }
   ],
   "source": [
    "#Проверим гипотезу о том, что вероятность оскароносного актера в фильмах с оценкой выше и равной 7 равно\n",
    "#вероятности оскароносного актера в фильмах с оценкой ниже 7\n",
    "#Альтернативная гипотеза:в первом случае вероятность выше\n",
    "#Используем тест для разности долей, так как работаем с биномиальным распределением\n",
    "p1 = df['OscarA'][df['Rate']>=7].mean()\n",
    "p2 = df['OscarA'][df['Rate']<7].mean()\n",
    "#Используем тест для разности долей\n",
    "print('stat:',(p1-p2)/np.sqrt((p1*(1-p1)/len(df['OscarA'][df['Rate']>=7]))+(p2*(1-p2)/len(df['OscarA'][df['Rate']<7]))))\n",
    "#p-value\n",
    "from scipy.stats import binom_test\n",
    "pv = binom_test( (df['OscarA'][df['Rate']>=7].sum(),df['OscarA'][df['Rate']<7].sum()),n=(len(df['OscarA'][df['Rate']>=7]),len(df['OscarA'][df['Rate']<7])), alternative='greater')\n",
    "if pv>a:\n",
    "    print('Основная гипотеза не отвергается')\n",
    "else:\n",
    "    print('Основная гипотеза отвергается')\n"
   ]
  },
  {
   "cell_type": "code",
   "execution_count": 11,
   "id": "62b59cdc",
   "metadata": {},
   "outputs": [
    {
     "name": "stdout",
     "output_type": "stream",
     "text": [
      "stat: 6.905411275598332\n",
      "Основная гипотеза отвергается\n"
     ]
    }
   ],
   "source": [
    "#Проверим гипотезу о том, что вероятность оскароносного режиссера в фильмах с оценкой выше и равной 7 равно\n",
    "#вероятности оскароносного режиссера в фильмах с оценкой ниже 7\n",
    "#Альтернативная гипотеза:в первом случае вероятность выше\n",
    "#Используем тест для разности долей, так как работаем с биномиальным распределением\n",
    "p1 = df['OscarD'][df['Rate']>=7].mean()\n",
    "p2 = df['OscarD'][df['Rate']<7].mean()\n",
    "#Используем тест для разности долей\n",
    "print('stat:',(p1-p2)/np.sqrt((p1*(1-p1)/len(df['OscarD'][df['Rate']>=7]))+(p2*(1-p2)/len(df['OscarD'][df['Rate']<7]))))\n",
    "#p-value\n",
    "from scipy.stats import binom_test\n",
    "pv1 = binom_test( (df['OscarD'][df['Rate']>=7].sum(),df['OscarD'][df['Rate']<7].sum()),n=(len(df['OscarD'][df['Rate']>=7]),len(df['OscarD'][df['Rate']<7])), alternative='greater')\n",
    "if pv1>a:\n",
    "    print('Основная гипотеза не отвергается')\n",
    "else:\n",
    "    print('Основная гипотеза отвергается')"
   ]
  },
  {
   "cell_type": "code",
   "execution_count": 12,
   "id": "1569a92c",
   "metadata": {},
   "outputs": [
    {
     "name": "stdout",
     "output_type": "stream",
     "text": [
      "Основная гипотеза отвергается\n"
     ]
    }
   ],
   "source": [
    "#Проверим гипотезу о том, что в фильмах с оценкой выше 7 или равной мат.ожидание просмотров равно мат.ожиданию просмотров\n",
    "#в фильмах с оценкой ниже 7\n",
    "#Альтернативная гипотеза:в первом случае мат.ожидание больше \n",
    "#Используем z-тест, так как значений достаточно, выборки независимые и нет выбросов\n",
    "more7 = df['View'][df['Rate']>=7]\n",
    "less7 = df['View'][df['Rate']<7]\n",
    "pv2 = ztest(more7,less7,alternative='larger')[1]\n",
    "if pv2>a:\n",
    "    print('Основная гипотеза не отвергается')\n",
    "else:\n",
    "    print('Основная гипотеза отвергается')\n"
   ]
  },
  {
   "cell_type": "code",
   "execution_count": 13,
   "id": "74ae7947",
   "metadata": {},
   "outputs": [
    {
     "name": "stdout",
     "output_type": "stream",
     "text": [
      "Основная гипотеза отвергается\n"
     ]
    }
   ],
   "source": [
    "#Проверим гипотезу о том, что в фильмах с оценкой выше 7 или равной мат.ожидание продолжительности равно мат.ожиданию \n",
    "# продолжительности в фильмах с оценкой ниже 7\n",
    "#Альтернативная гипотеза:в первом случае мат.ожидание больше\n",
    "#Используем z-тест, так как значений достаточно, выборки независимые и нет выбросов\n",
    "more71 = df['Duration'][df['Rate']>=7]\n",
    "less71 = df['Duration'][df['Rate']<7]\n",
    "pv3 = ztest(more71,less71,alternative='larger')[1]\n",
    "if pv3>a:\n",
    "    print('Основная гипотеза не отвергается')\n",
    "else:\n",
    "    print('Основная гипотеза отвергается')"
   ]
  },
  {
   "cell_type": "code",
   "execution_count": 14,
   "id": "00b9419a",
   "metadata": {},
   "outputs": [
    {
     "name": "stdout",
     "output_type": "stream",
     "text": [
      "Основная гипотеза отвергается\n"
     ]
    }
   ],
   "source": [
    "#Проверим гипотезу о том, что мат.ожидание рейтинга, в фильмах вышедших до 2000 года равно мат.ожиданию рейтинга фильмов, вышедших\n",
    "#после 2000.\n",
    "#Альтернативная гипотеза:в первом случае мат.ожидание больше\n",
    "#Используем z-тест, так как значений достаточно, выборки независимые и нет выбросов\n",
    "old = df['Rate'][df['Year']<2000]\n",
    "new = df['Rate'][df['Year']>=2000]\n",
    "pv4 = ztest(old,new,alternative='larger')[1]\n",
    "if pv4>a:\n",
    "    print('Основная гипотеза не отвергается')\n",
    "else:\n",
    "    print('Основная гипотеза отвергается')\n"
   ]
  },
  {
   "cell_type": "code",
   "execution_count": 15,
   "id": "9d7028e0",
   "metadata": {},
   "outputs": [
    {
     "name": "stdout",
     "output_type": "stream",
     "text": [
      "Основная гипотеза отвергается\n"
     ]
    }
   ],
   "source": [
    "#Проверим гипотезу о том, что мат. ожидание рейтинга фильмов с жанром аниме выше чем мат. ожидание рейтинга фильмов \n",
    "# других жанров.\n",
    "#Альтернативная гипотеза:в первом случае мат.ожидание больше\n",
    "anime = df[df['Genre']=='аниме']['Rate']\n",
    "other = df[df['Genre']!='аниме']['Rate']\n",
    "#Используем U-тест(Манна Уитни), так как значений недостаточно, выборки независимые и нет выбросов\n",
    "pv5 = stats.mannwhitneyu(anime,other, alternative='greater')[1]\n",
    "if pv5>a:\n",
    "    print('Основная гипотеза не отвергается')\n",
    "else:\n",
    "    print('Основная гипотеза отвергается')\n",
    "\n"
   ]
  },
  {
   "cell_type": "code",
   "execution_count": 16,
   "id": "1c2780ba",
   "metadata": {},
   "outputs": [
    {
     "name": "stdout",
     "output_type": "stream",
     "text": [
      "Основная гипотеза отвергается\n"
     ]
    }
   ],
   "source": [
    "#Проверим гипотезу о том, что мат. ожидание рейтинга фильмов, снятых в Новой Зеландии выше чем мат. ожидание рейтинга \n",
    "# фильмов, снятых в других странах\n",
    "#Альтернативная гипотеза:в первом случае мат.ожидание больше\n",
    "NZ = df[df['Country']=='Новая Зеландия']['Rate']\n",
    "Country = df[df['Country']!='Новая Зеландия']['Rate']\n",
    "#Используем U-тест(Манна Уитни), так как значений недостаточно, выборки независимые и нет выбросов\n",
    "pv6 = stats.mannwhitneyu(NZ,Country, alternative='greater')[1]\n",
    "if pv6>a:\n",
    "    print('Основная гипотеза не отвергается')\n",
    "else:\n",
    "    print('Основная гипотеза отвергается')"
   ]
  },
  {
   "cell_type": "markdown",
   "id": "1e4fb797",
   "metadata": {},
   "source": [
    "## Выводы по гипотезам"
   ]
  },
  {
   "cell_type": "markdown",
   "id": "7d0a8ce8",
   "metadata": {},
   "source": [
    "Исходя из проверенных выше гипотез, получаем следующие выводы:\n",
    "\n",
    "1)В фильмах с оценкой 7 и выше актеры и режиссеры с оскаром встречаются чаще, чем в других случаях.\n",
    "\n",
    "2)У фильмов с оценкой 7 и выше просмотров больше, чем в среднем по фильмам с оценкой ниже.\n",
    "\n",
    "3)Фильмы с оценкой 7 и выше идут дольше, чем в среднем фильмы с оценкой ниже.\n",
    "\n",
    "4)Рейтинг в среднем выше у фильмов вышедших до 2000 года.\n",
    "\n",
    "5)Аниме имеет в среднем рейтинг выше, чем другие жанры.\n",
    "\n",
    "6)Фильмы, созданные в Новой Зеландии имеют в среднем более высокий рейтинг относительно других стран."
   ]
  },
  {
   "cell_type": "markdown",
   "id": "bf89242f",
   "metadata": {},
   "source": [
    "# Машинное обучение\n"
   ]
  },
  {
   "cell_type": "code",
   "execution_count": 17,
   "id": "0aa93341",
   "metadata": {},
   "outputs": [],
   "source": [
    "#Разделим данные на тест и трейн\n",
    "from sklearn.model_selection import train_test_split\n",
    "df_train, df_test = train_test_split(df_ML, test_size=0.2, stratify=df_ML['Good mark'], random_state=40)"
   ]
  },
  {
   "cell_type": "code",
   "execution_count": 18,
   "id": "ae6f09b9",
   "metadata": {},
   "outputs": [],
   "source": [
    "#Выделим Good mark как целевое значение\n",
    "y_train = df_train['Good mark']\n",
    "y_test = df_test['Good mark'] \n",
    "X_train = df_train.drop('Good mark', axis=1)\n",
    "X_test = df_test.drop('Good mark', axis=1)"
   ]
  },
  {
   "cell_type": "code",
   "execution_count": 19,
   "id": "6229431a",
   "metadata": {},
   "outputs": [],
   "source": [
    "#Выделим категориальные и числовые критерии, которые затем надо будет преобразовать\n",
    "categorical_features = ['Genre','Region']\n",
    "numeric_features = ['View','Year','Duration','OscarA','OscarD']"
   ]
  },
  {
   "cell_type": "code",
   "execution_count": 20,
   "id": "c2f44b44",
   "metadata": {},
   "outputs": [],
   "source": [
    "#Сделаем OHE, scaling и создадим для этого column transformer\n",
    "from sklearn.preprocessing import OneHotEncoder, StandardScaler\n",
    "from sklearn.compose import ColumnTransformer\n",
    "from sklearn.pipeline import Pipeline\n",
    "column_transformer = ColumnTransformer([\n",
    "    ('scaling', StandardScaler(), numeric_features),    \n",
    "    ('ohe', OneHotEncoder(handle_unknown=\"ignore\", drop=\"first\"), categorical_features)])"
   ]
  },
  {
   "cell_type": "markdown",
   "id": "94eab944",
   "metadata": {},
   "source": [
    "## Логистическая регрессия"
   ]
  },
  {
   "cell_type": "code",
   "execution_count": 21,
   "id": "8460b789",
   "metadata": {},
   "outputs": [],
   "source": [
    "#Для начала получим логистическую регрессию, обучим модель, подберем гиперпарметры\n",
    "from sklearn.linear_model import LogisticRegression\n",
    "model = Pipeline(steps=[\n",
    "    ('ohe_and_scaling', column_transformer),\n",
    "    ('regression', LogisticRegression())\n",
    "])"
   ]
  },
  {
   "cell_type": "markdown",
   "id": "4af90246",
   "metadata": {},
   "source": [
    "### Подбор гиперпарметров для логистической регрессии"
   ]
  },
  {
   "cell_type": "code",
   "execution_count": 22,
   "id": "a453bfd4",
   "metadata": {},
   "outputs": [
    {
     "name": "stdout",
     "output_type": "stream",
     "text": [
      "The best solver is newton-cg\n"
     ]
    }
   ],
   "source": [
    "#Для начала найдем лучший solver, а затем по нему подберем остальные гиперпараметры\n",
    "from sklearn.model_selection import GridSearchCV\n",
    "parameters = {'regression__solver': ['newton-cg', 'lbfgs','liblinear', 'sag', 'saga']}\n",
    "searcher_lr = GridSearchCV(model, param_grid=parameters, scoring='roc_auc', cv=10, n_jobs=-1)\n",
    "logreg_cv = searcher_lr.fit(X_train, y_train)\n",
    "print('The best solver is',logreg_cv.best_params_['regression__solver'])\n",
    "best_solver=logreg_cv.best_params_['regression__solver']"
   ]
  },
  {
   "cell_type": "code",
   "execution_count": 23,
   "id": "47e8c8c0",
   "metadata": {},
   "outputs": [
    {
     "name": "stdout",
     "output_type": "stream",
     "text": [
      "The best C is 1.623776739188721\n",
      "The best penalty is l2\n"
     ]
    }
   ],
   "source": [
    "#Так как solver - newton-cg, выберем penalty, которые подходят этому способу\n",
    "#Подбираем остальные гиперпараметры\n",
    "from sklearn.metrics import roc_auc_score\n",
    "\n",
    "parameters1 = {'regression__penalty': ['none','l2'],'regression__C': np.logspace(-2, 4, 20)}\n",
    "model1=Pipeline(steps=[\n",
    "    ('ohe_and_scaling', column_transformer),\n",
    "    ('regression', LogisticRegression(solver='newton-cg'))])\n",
    "searcher_lr1 = GridSearchCV(model1, parameters1, scoring='roc_auc', cv=10, n_jobs=-1)\n",
    "logreg_cv1 = searcher_lr1.fit(X_train, y_train)\n",
    "print('The best C is',logreg_cv1.best_params_['regression__C'])\n",
    "print('The best penalty is', logreg_cv1.best_params_['regression__penalty'])\n",
    "best_C=logreg_cv1.best_params_['regression__C']\n",
    "best_penalty=logreg_cv1.best_params_['regression__penalty']\n"
   ]
  },
  {
   "cell_type": "markdown",
   "id": "06c13db6",
   "metadata": {},
   "source": [
    "### Обучение модели и проверка ее качества"
   ]
  },
  {
   "cell_type": "code",
   "execution_count": 24,
   "id": "6e0f7ab2",
   "metadata": {},
   "outputs": [
    {
     "data": {
      "text/plain": [
       "Pipeline(steps=[('ohe_and_scaling',\n",
       "                 ColumnTransformer(transformers=[('scaling', StandardScaler(),\n",
       "                                                  ['View', 'Year', 'Duration',\n",
       "                                                   'OscarA', 'OscarD']),\n",
       "                                                 ('ohe',\n",
       "                                                  OneHotEncoder(drop='first',\n",
       "                                                                handle_unknown='ignore'),\n",
       "                                                  ['Genre', 'Region'])])),\n",
       "                ('regression',\n",
       "                 LogisticRegression(C=1.623776739188721, solver='newton-cg'))])"
      ]
     },
     "execution_count": 24,
     "metadata": {},
     "output_type": "execute_result"
    }
   ],
   "source": [
    "#Обучим итоговую модель, подставив подобранные гиперпараметры\n",
    "model_lr=Pipeline(steps=[\n",
    "    ('ohe_and_scaling', column_transformer),\n",
    "    ('regression', LogisticRegression(C=best_C,solver=best_solver,penalty=best_penalty))\n",
    "])\n",
    "model_lr.fit(X_train, y_train)"
   ]
  },
  {
   "cell_type": "code",
   "execution_count": 25,
   "id": "60870e78",
   "metadata": {},
   "outputs": [
    {
     "name": "stdout",
     "output_type": "stream",
     "text": [
      "Доля верно классифицированных отвветов: 0.8247422680412371\n",
      "Доля наиболее часто встречающегося класса: 0.7070063694267515\n"
     ]
    }
   ],
   "source": [
    "#Посмотрим на метрики, начнем с наименее полезной -accuracy, сравним ее с долей наиболее часто встречающегося класса \n",
    "# и сделаем выводы.\n",
    "from sklearn.metrics import accuracy_score\n",
    "p_pred = model_lr.predict_proba(X_test)\n",
    "y_pred = model_lr.predict(X_test)\n",
    "print('Доля верно классифицированных отвветов:',accuracy_score(y_test, y_pred))\n",
    "print('Доля наиболее часто встречающегося класса:',(df[df['Good mark']==1].shape[0])/(df['Good mark'].shape[0]))\n",
    "#Полученная оценка accuracy показывает, что доля верно квалифицированных объектов больше, чем доля объектов \n",
    "#наиболее часто встречающегося класса, что говорит об относительно хорошем качестве модели."
   ]
  },
  {
   "cell_type": "code",
   "execution_count": 26,
   "id": "9a2a3b0f",
   "metadata": {},
   "outputs": [
    {
     "name": "stdout",
     "output_type": "stream",
     "text": [
      "Порог: 0.33199999999999974\n",
      "Точность: 0.84\n",
      "Полнота: 0.9473684210526315\n",
      "F-beta: 0.8904593639575972\n"
     ]
    },
    {
     "data": {
      "text/plain": [
       "Text(0, 0.5, 'F-beta')"
      ]
     },
     "execution_count": 26,
     "metadata": {},
     "output_type": "execute_result"
    },
    {
     "data": {
      "image/png": "[encoded data removed]",
      "text/plain": [
       "<Figure size 640x480 with 1 Axes>"
      ]
     },
     "metadata": {},
     "output_type": "display_data"
    }
   ],
   "source": [
    "#Теперь посмотрим на точтость, полноту и Fbeta, будем считать, что точность и полнота нам одинаково важны\n",
    "from sklearn.metrics import fbeta_score\n",
    "from sklearn.metrics import precision_score, recall_score\n",
    "numbers=np.arange(0.01,1.01,0.001)\n",
    "B=[]\n",
    "steps=[]\n",
    "for t in numbers:\n",
    "    y_pred = 1*(p_pred[:,-1] >=t) \n",
    "    plt.scatter(t,fbeta_score(y_test, y_pred, beta=1))\n",
    "    B.append(fbeta_score(y_test, y_pred, beta=1))\n",
    "    steps.append(t)\n",
    "n=steps[B.index(max(B))]\n",
    "y_pred = 1*(p_pred[:,-1] >=n)\n",
    "print('Порог:', n)\n",
    "print('Точность:', precision_score(y_test, y_pred))\n",
    "print('Полнота:', recall_score(y_test, y_pred))\n",
    "print('F-beta:',fbeta_score(y_test, y_pred, beta=1))\n",
    "plt.xlabel('t')\n",
    "plt.ylabel('F-beta')\n",
    "#Все показатели получились достаточно высокими, что говорит об относительно хорошем качесиве модели"
   ]
  },
  {
   "cell_type": "code",
   "execution_count": 27,
   "id": "c4aff685",
   "metadata": {},
   "outputs": [],
   "source": [
    "#Теперь нарисуем ROC-AUC и посмотрим на ROC-AUC score\n",
    "from sklearn.metrics import roc_curve\n",
    "from sklearn.metrics import roc_auc_score\n",
    "def roc_auc_pic(Y_test, p_pred):    \n",
    "    fpr_test, tpr_test, thresholds_test = roc_curve(Y_test, p_pred)\n",
    "    roc_auc_test = roc_auc_score(Y_test, p_pred)\n",
    "    plt.figure(figsize=(7, 7))\n",
    "    plt.plot(fpr_test, tpr_test, label='Test ROC-AUC {0}'.format(roc_auc_test))\n",
    "    plt.plot([0, 1], [0, 1], '--', color=(0.6, 0.6, 0.6))\n",
    "    plt.xlim([0, 1])\n",
    "    plt.ylim([0, 1])\n",
    "    plt.xlabel('False Positive Rate')\n",
    "    plt.ylabel('True Positive Rate')\n",
    "    plt.legend(loc='lower right');"
   ]
  },
  {
   "cell_type": "code",
   "execution_count": 28,
   "id": "b8b7d42e",
   "metadata": {},
   "outputs": [
    {
     "data": {
      "image/png": "[encoded data removed]",
      "text/plain": [
       "<Figure size 700x700 with 1 Axes>"
      ]
     },
     "metadata": {},
     "output_type": "display_data"
    }
   ],
   "source": [
    "roc_auc_pic(y_test, p_pred[:,-1])"
   ]
  },
  {
   "cell_type": "code",
   "execution_count": 29,
   "id": "adca84e1",
   "metadata": {},
   "outputs": [
    {
     "data": {
      "text/plain": [
       "0.8778503636139529"
      ]
     },
     "execution_count": 29,
     "metadata": {},
     "output_type": "execute_result"
    }
   ],
   "source": [
    "roc_auc_score(y_test, p_pred[:,-1])\n",
    "#Качество модели получилось достаточно высоким"
   ]
  },
  {
   "cell_type": "markdown",
   "id": "8ddc71ab",
   "metadata": {},
   "source": [
    "### Интерпретация модели"
   ]
  },
  {
   "cell_type": "code",
   "execution_count": 30,
   "id": "6da95464",
   "metadata": {},
   "outputs": [
    {
     "data": {
      "text/plain": [
       "array([[ 1.21261678, -1.92973916,  0.44879203,  0.1126111 ,  0.37667337,\n",
       "         0.71311662, -1.1921443 ,  0.10091394,  0.64280272, -0.08073848,\n",
       "         0.13899848,  0.22451831, -0.26640358, -0.3907866 ,  0.46136709,\n",
       "        -0.1926235 ,  1.04066587,  0.19634678, -1.36967509,  0.7692071 ,\n",
       "        -0.54804059, -1.30160326, -1.71797436, -1.51167935,  0.67696823,\n",
       "        -0.80148859,  0.16042281, -0.4647869 ]])"
      ]
     },
     "execution_count": 30,
     "metadata": {},
     "output_type": "execute_result"
    }
   ],
   "source": [
    "#Посмотрим на коэффициенты и на то, как они влияют на то, будет ли оценка у фильма хорошей\n",
    "model_lr.steps[1][1].coef_\n",
    "#Так как мы не можем посмотреть, к каким столбцам относится коэффициенты из-за OHE, попробуем сделать это вручную\n",
    "\n"
   ]
  },
  {
   "cell_type": "code",
   "execution_count": 31,
   "id": "adaeac3d",
   "metadata": {},
   "outputs": [
    {
     "data": {
      "text/plain": [
       "Index(['View', 'Year', 'Duration', 'Genre', 'OscarA', 'OscarD', 'Region'], dtype='object')"
      ]
     },
     "execution_count": 31,
     "metadata": {},
     "output_type": "execute_result"
    }
   ],
   "source": [
    "#Посмотрим на порядок столбцов в исходном датасете\n",
    "df_ML.drop('Good mark',axis=1).columns\n"
   ]
  },
  {
   "cell_type": "code",
   "execution_count": 32,
   "id": "34481bb1",
   "metadata": {},
   "outputs": [
    {
     "data": {
      "text/plain": [
       "array(['мультфильм', 'военный', 'драма', 'боевик', 'криминал',\n",
       "       'фантастика', 'фэнтези', 'история', 'триллер', 'вестерн', 'аниме',\n",
       "       'мелодрама', 'биография', 'детектив', 'спорт', 'документальный',\n",
       "       'ужасы', 'мюзикл', 'комедия', 'приключения', 'семейный'],\n",
       "      dtype=object)"
      ]
     },
     "execution_count": 32,
     "metadata": {},
     "output_type": "execute_result"
    }
   ],
   "source": [
    "#Посмотрим уникальные значения жанров, жанр спорт встречается всего один раз, поэтому вероятнее всего его нет в модели\n",
    "df_ML['Genre'].unique()"
   ]
  },
  {
   "cell_type": "code",
   "execution_count": 34,
   "id": "da9ce0ee",
   "metadata": {},
   "outputs": [
    {
     "data": {
      "text/plain": [
       "array(['Америка', 'СНГ(СССР)', 'Европа', 'Австралия и океания', 'Азия'],\n",
       "      dtype=object)"
      ]
     },
     "execution_count": 34,
     "metadata": {},
     "output_type": "execute_result"
    }
   ],
   "source": [
    "#Посмотрим уникальные значения регионов\n",
    "df_ML['Region'].unique()"
   ]
  },
  {
   "cell_type": "markdown",
   "id": "eebbd6a9",
   "metadata": {},
   "source": [
    "Просмотры: Чем больше просмотров, тем больше вероятность хорошей оценки \n",
    "\n",
    "Год: Чем фильм старее, тем больше вероятность хорошей оценки\n",
    "\n",
    "Длительность: Чем фильм длиннее, тем больше вероятность хорошей оценки\n",
    "\n",
    "Наличие актеров с оскаром: Наличие оскороносного актера увеличивает вероятность хорошей оценки\n",
    "\n",
    "Наличие режиссеров с оскаром: Наличие оскороносного режиссера увеличивает вероятность хорошей оценки\n",
    "\n",
    "Жанр: Вероятность хорошей оценки выше, если у фильма один из этих жанров (по убыванию вероятности): биография, ужасы, военный, криминал, аниме, история, детектив, фэнтези, боевик.\n",
    "\n",
    "Ниже всего вероятность хорошей оценки при жанре \"приключения\" ,\"семеный\", \"документальный\",\"комедия\",\"драма\".\n",
    "\n",
    "Регион: Вероятность хорошей оценки повышаетс, если фильм снят в СНГ или Австралии, и понижается, если в в Европе или Азии\n",
    "\n"
   ]
  },
  {
   "cell_type": "markdown",
   "id": "ee252b4e",
   "metadata": {},
   "source": [
    "## Метод ближайших соседей"
   ]
  },
  {
   "cell_type": "code",
   "execution_count": 35,
   "id": "1186d009",
   "metadata": {},
   "outputs": [
    {
     "data": {
      "text/plain": [
       "GridSearchCV(cv=5,\n",
       "             estimator=Pipeline(steps=[('ohe_and_scaling',\n",
       "                                        ColumnTransformer(transformers=[('scaling',\n",
       "                                                                         StandardScaler(),\n",
       "                                                                         ['View',\n",
       "                                                                          'Year',\n",
       "                                                                          'Duration',\n",
       "                                                                          'OscarA',\n",
       "                                                                          'OscarD']),\n",
       "                                                                        ('ohe',\n",
       "                                                                         OneHotEncoder(drop='first',\n",
       "                                                                                       handle_unknown='ignore'),\n",
       "                                                                         ['Genre',\n",
       "                                                                          'Region'])])),\n",
       "                                       ('knn', KNeighborsClassifier())]),\n",
       "             n_jobs=-1,\n",
       "             param_grid=[{'knn__n_neighbors': array([  5,  15,  25,  35,  45,  55,  65,  75,  85,  95, 105, 115, 125,\n",
       "       135, 145, 155, 165, 175, 185, 195, 205])}],\n",
       "             scoring='roc_auc')"
      ]
     },
     "execution_count": 35,
     "metadata": {},
     "output_type": "execute_result"
    }
   ],
   "source": [
    "#Попробуем использовать метод ближайших соседей и посмотрим, какой способ дает качество лучше\n",
    "#Для начала подберем оптимальное количество соседей\n",
    "#Затем обучим модель\n",
    "from sklearn.neighbors import KNeighborsClassifier\n",
    "model_knn = Pipeline(steps=[\n",
    "    ('ohe_and_scaling', column_transformer),\n",
    "    ('knn', KNeighborsClassifier())\n",
    "])\n",
    "\n",
    "k = np.linspace(5, 205, 21, dtype=int)\n",
    "\n",
    "searcher_knn = GridSearchCV(model_knn, [{\"knn__n_neighbors\": k}],\n",
    "                        scoring=\"roc_auc\", cv=5, n_jobs=-1)\n",
    "searcher_knn.fit(X_train, y_train)"
   ]
  },
  {
   "cell_type": "code",
   "execution_count": 36,
   "id": "da4f2171",
   "metadata": {},
   "outputs": [
    {
     "data": {
      "text/plain": [
       "0.8864784913102428"
      ]
     },
     "execution_count": 36,
     "metadata": {},
     "output_type": "execute_result"
    },
    {
     "data": {
      "image/png": "[encoded data removed]",
      "text/plain": [
       "<Figure size 700x700 with 1 Axes>"
      ]
     },
     "metadata": {},
     "output_type": "display_data"
    }
   ],
   "source": [
    "#Посмторим на ROC-AUC и сравним со значением логистической регрессии\n",
    "y_pred = searcher_knn.predict(X_test)\n",
    "accuracy_score(y_test, y_pred)\n",
    "p_pred = searcher_knn.predict_proba(X_test)\n",
    "roc_auc_pic(y_test, p_pred[:,-1])\n",
    "roc_auc_score(y_test, p_pred[:,-1])\n",
    "#Качество оказалось лучше, чем в случае логистической регрессии"
   ]
  },
  {
   "cell_type": "markdown",
   "id": "48f4d2c3",
   "metadata": {},
   "source": [
    "## Случайный лес"
   ]
  },
  {
   "cell_type": "code",
   "execution_count": 37,
   "id": "211493ce",
   "metadata": {},
   "outputs": [
    {
     "data": {
      "text/plain": [
       "0.8623813632441759"
      ]
     },
     "execution_count": 37,
     "metadata": {},
     "output_type": "execute_result"
    }
   ],
   "source": [
    "#Попробуем использовать базовый вариант случайного леса\n",
    "from sklearn.experimental import enable_halving_search_cv\n",
    "from sklearn.ensemble import RandomForestClassifier\n",
    "from sklearn.model_selection import HalvingGridSearchCV\n",
    "model_rf=Pipeline(steps=[\n",
    "    ('ohe_and_scaling', column_transformer),\n",
    "    ('rf', RandomForestClassifier(n_estimators=1000))\n",
    "])\n",
    "#Обучим модель и посмотрим на качество, сравним с KNN и логистической регрессией\n",
    "\n",
    "model_rf.fit(X_train, y_train)\n",
    "p_pred = model_rf.predict_proba(X_test)\n",
    "roc_auc_score(y_test, p_pred[:,-1])\n",
    "#Качество получилось хуже, чем в случае логистической регрессии и KNN\n"
   ]
  },
  {
   "cell_type": "markdown",
   "id": "596e7d36",
   "metadata": {},
   "source": [
    "## Итог\n"
   ]
  },
  {
   "cell_type": "markdown",
   "id": "85c84cc2",
   "metadata": {},
   "source": [
    "Обучив несколько различных и сравнив их метрики качества, мы пришли к выводу, что метод ближайших соседей дает наилучший результат по качеству, поэтому самым оптимальным будет выбрать его для предсказания будет ли у фильма хорошая оценка."
   ]
  }
 ],
 "metadata": {
  "kernelspec": {
   "display_name": "Python 3 (ipykernel)",
   "language": "python",
   "name": "python3"
  },
  "language_info": {
   "codemirror_mode": {
    "name": "ipython",
    "version": 3
   },
   "file_extension": ".py",
   "mimetype": "text/x-python",
   "name": "python",
   "nbconvert_exporter": "python",
   "pygments_lexer": "ipython3",
   "version": "3.9.13"
  }
 },
 "nbformat": 4,
 "nbformat_minor": 5
}
